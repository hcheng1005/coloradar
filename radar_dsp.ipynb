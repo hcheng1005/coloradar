{
 "cells": [
  {
   "cell_type": "code",
   "execution_count": null,
   "metadata": {},
   "outputs": [],
   "source": [
    "import os, sys\n",
    "sys.path.append(os.path.join(os.path.dirname(\"/data/chenghao/private/coloradar/core\")))\n",
    "\n",
    "import matplotlib.pyplot as plt\n",
    "%matplotlib inline\n",
    "\n",
    "import numpy as np\n",
    "\n",
    "from core.radar import SCRadar, CCRadar\n",
    "from core.dataset import Coloradar\n",
    "from core.utils import radardsp as rdsp\n"
   ]
  },
  {
   "cell_type": "code",
   "execution_count": null,
   "metadata": {},
   "outputs": [],
   "source": [
    "# 注册API接口\n",
    "coloradar = Coloradar()\n",
    "record = coloradar.getRecord(\"outdoor0\", 100) \n",
    "record.load(\"scradar\") # 加载radar数据集，这里以单芯片radar方案为例\n",
    "\n",
    "# 获取实例对象\n",
    "scradar_ = record.scradar\n",
    "# scradar_.show() # 可视化点云\n",
    "scradar_.showHeatmap()\n",
    "# scradar_.showHeatmapBirdEyeView(threshold=0.1)"
   ]
  },
  {
   "cell_type": "code",
   "execution_count": null,
   "metadata": {},
   "outputs": [],
   "source": [
    "'''\n",
    "下面梳理如何从ADC数据一步步得到点云数据\n",
    "'''\n",
    "\n",
    "''' \n",
    "第一步: 获取原始ADC数据\n",
    "'''\n",
    "adc_samples = scradar_.raw\n",
    "# print(adc_samples.shape)\n",
    "\n",
    "# step1：去除直流偏置\n",
    "adc_samples -= np.mean(adc_samples)\n",
    "# print(np.mean(adc_samples))\n",
    "\n",
    "if scradar_.sensor != \"scradar\": # scradar数据不进行校准（本示例此处跳过）\n",
    "    adc_samples *= scradar_.calibration.get_frequency_calibration()\n",
    "    adc_samples *= scradar_.calibration.get_phase_calibration()\n",
    "\n",
    "print(adc_samples.shape) # shape size -> (3, 4, 128, 128)"
   ]
  },
  {
   "cell_type": "markdown",
   "metadata": {},
   "source": [
    " "
   ]
  },
  {
   "cell_type": "markdown",
   "metadata": {},
   "source": [
    "原始ADC数据维度为： (3, 4, 128, 128)\n",
    "分别表示3个TX，4个RX，128个chirps，每个chirp采样128samples。\n",
    "\n",
    "获得ADC数据后，一般流程是对adc数据进行[**加窗处理**](https://zhuanlan.zhihu.com/p/24318554)\n",
    "\n",
    "常用的窗函数有：\n",
    "\n"
   ]
  },
  {
   "cell_type": "code",
   "execution_count": null,
   "metadata": {},
   "outputs": [],
   "source": [
    "\n",
    "''' \n",
    "第二步: FFT处理\n",
    "'''\n",
    "\n",
    "# 获取adc数据\n",
    "ntx, nrx, nc, ns = adc_samples.shape\n",
    "\n",
    "# # #ADC数据可视化\n",
    "# plt.figure(figsize=(10,10))\n",
    "# for ntx_i in range(ntx):\n",
    "#     for nrx_i in range(nrx):\n",
    "#             adc_data = np.abs(adc_samples[ntx_i, nrx_i, 0, :])\n",
    "#             plt.plot(adc_data,'.-')\n",
    "            \n",
    "            \n",
    "# Range FFT\n",
    "samples = adc_samples * np.blackman(ns).reshape(1, 1, 1, -1) # 加窗\n",
    "rfft = np.fft.fft(adc_samples, ns, -1)\n",
    "# rfft -= scradar_.calibration.get_coupling_calibration() #\n",
    "\n",
    "# tmpData = scradar_.calibration.get_coupling_calibration()\n",
    "# tmpData.reshape([-1])\n",
    "# plt.figure()\n",
    "# plt.plot(tmpData.reshape([-1]))\n",
    "\n",
    "# # 可视化rangeFFT结果\n",
    "# plt.figure(figsize=(10,10))\n",
    "# for ntx_i in range(ntx):\n",
    "#     for nrx_i in range(nrx):\n",
    "#             rfft_mod = np.abs(rfft[ntx_i, nrx_i, 0, :])\n",
    "#             # print(rfft_mod.shape)\n",
    "#             plt.plot(rfft_mod,'.-')\n",
    "\n",
    "# Doppler FFT\n",
    "dfft = np.fft.fft(rfft, nc, -2)\n",
    "dfft = np.fft.fftshift(dfft, -2)\n",
    "vcomp = rdsp.velocity_compensation(ntx, nc) # 速度补偿\n",
    "dfft *= vcomp\n",
    "\n",
    "# RDMap可视化\n",
    "dfft_tmp = dfft[0,0,:,:].reshape([nc, ns])\n",
    "dfft_mod = np.abs(dfft_tmp)\n",
    "# print(dfft_tmp.shape, dfft_mod.shape)\n",
    "plt.matshow(dfft_mod)"
   ]
  }
 ],
 "metadata": {
  "kernelspec": {
   "display_name": "chenghao_env",
   "language": "python",
   "name": "python3"
  },
  "language_info": {
   "codemirror_mode": {
    "name": "ipython",
    "version": 3
   },
   "file_extension": ".py",
   "mimetype": "text/x-python",
   "name": "python",
   "nbconvert_exporter": "python",
   "pygments_lexer": "ipython3",
   "version": "3.8.0"
  }
 },
 "nbformat": 4,
 "nbformat_minor": 2
}
